{
 "cells": [
  {
   "cell_type": "code",
   "execution_count": null,
   "metadata": {},
   "outputs": [],
   "source": [
    "import csv\n",
    "import socket\n",
    "\n",
    "inputFile = \"id3.csv\"\n",
    "outputFile = \"processed_id3.csv\"\n"
   ]
  },
  {
   "cell_type": "code",
   "execution_count": null,
   "metadata": {},
   "outputs": [],
   "source": [
    "# the 40th column (0 based) contains ips and we need the resolved name\n",
    "# Reading part\n",
    "alist = []\n",
    "with open(inputFile) as csv_file:\n",
    "#with open('id3.csv') as csv_file:\n",
    "    csv_reader = csv.reader(csv_file, delimiter=';')\n",
    "    line_count = True\n",
    "    for row in csv_reader:\n",
    "        if line_count:\n",
    "            # header first line\n",
    "            row.append(\"src_ip_Resol\")\n",
    "            line_count = False\n",
    "        else:\n",
    "            n = socket.getfqdn(row[39])\n",
    "            row.append(n)\n",
    "        alist.append(row)\n",
    "    \n",
    "\n"
   ]
  },
  {
   "cell_type": "code",
   "execution_count": null,
   "metadata": {},
   "outputs": [],
   "source": [
    "# Writing part\n",
    "with open(outputFile, mode='w', newline='') as output_file:\n",
    "    data = csv.writer(output_file, delimiter=',', quotechar='\"', quoting=csv.QUOTE_MINIMAL)\n",
    "    for row in alist:\n",
    "        data.writerow(row)\n"
   ]
  },
  {
   "cell_type": "code",
   "execution_count": null,
   "metadata": {},
   "outputs": [],
   "source": []
  }
 ],
 "metadata": {
  "kernelspec": {
   "display_name": "Python 3",
   "language": "python",
   "name": "python3"
  },
  "language_info": {
   "codemirror_mode": {
    "name": "ipython",
    "version": 3
   },
   "file_extension": ".py",
   "mimetype": "text/x-python",
   "name": "python",
   "nbconvert_exporter": "python",
   "pygments_lexer": "ipython3",
   "version": "3.7.4"
  }
 },
 "nbformat": 4,
 "nbformat_minor": 2
}
